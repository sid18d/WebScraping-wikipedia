{
  "nbformat": 4,
  "nbformat_minor": 0,
  "metadata": {
    "colab": {
      "name": "wiki-library.ipynb",
      "provenance": [],
      "authorship_tag": "ABX9TyNlzP5FO4WzTmtvywRXOyqJ",
      "include_colab_link": true
    },
    "kernelspec": {
      "name": "python3",
      "display_name": "Python 3"
    },
    "language_info": {
      "name": "python"
    }
  },
  "cells": [
    {
      "cell_type": "markdown",
      "metadata": {
        "id": "view-in-github",
        "colab_type": "text"
      },
      "source": [
        "<a href=\"https://colab.research.google.com/github/sid18d/WebScraping-wikipedia/blob/main/wiki_library.ipynb\" target=\"_parent\"><img src=\"https://colab.research.google.com/assets/colab-badge.svg\" alt=\"Open In Colab\"/></a>"
      ]
    },
    {
      "cell_type": "code",
      "metadata": {
        "colab": {
          "base_uri": "https://localhost:8080/"
        },
        "id": "3qCwj094UCFP",
        "outputId": "d2d4d316-ae71-49a6-a593-e25d6d43515a"
      },
      "source": [
        "!pip install wikipedia\n",
        "# Installing required Library\n"
      ],
      "execution_count": 1,
      "outputs": [
        {
          "output_type": "stream",
          "name": "stdout",
          "text": [
            "Collecting wikipedia\n",
            "  Downloading wikipedia-1.4.0.tar.gz (27 kB)\n",
            "Requirement already satisfied: beautifulsoup4 in /usr/local/lib/python3.7/dist-packages (from wikipedia) (4.6.3)\n",
            "Requirement already satisfied: requests<3.0.0,>=2.0.0 in /usr/local/lib/python3.7/dist-packages (from wikipedia) (2.23.0)\n",
            "Requirement already satisfied: urllib3!=1.25.0,!=1.25.1,<1.26,>=1.21.1 in /usr/local/lib/python3.7/dist-packages (from requests<3.0.0,>=2.0.0->wikipedia) (1.24.3)\n",
            "Requirement already satisfied: idna<3,>=2.5 in /usr/local/lib/python3.7/dist-packages (from requests<3.0.0,>=2.0.0->wikipedia) (2.10)\n",
            "Requirement already satisfied: certifi>=2017.4.17 in /usr/local/lib/python3.7/dist-packages (from requests<3.0.0,>=2.0.0->wikipedia) (2021.10.8)\n",
            "Requirement already satisfied: chardet<4,>=3.0.2 in /usr/local/lib/python3.7/dist-packages (from requests<3.0.0,>=2.0.0->wikipedia) (3.0.4)\n",
            "Building wheels for collected packages: wikipedia\n",
            "  Building wheel for wikipedia (setup.py) ... \u001b[?25l\u001b[?25hdone\n",
            "  Created wheel for wikipedia: filename=wikipedia-1.4.0-py3-none-any.whl size=11696 sha256=780620ccf74945ee8f1d648afda2749d07287cd0c5dc4086e501ed55e51ab84e\n",
            "  Stored in directory: /root/.cache/pip/wheels/15/93/6d/5b2c68b8a64c7a7a04947b4ed6d89fb557dcc6bc27d1d7f3ba\n",
            "Successfully built wikipedia\n",
            "Installing collected packages: wikipedia\n",
            "Successfully installed wikipedia-1.4.0\n"
          ]
        }
      ]
    },
    {
      "cell_type": "code",
      "metadata": {
        "id": "dhC67sdwUIOi"
      },
      "source": [
        "import wikipedia\n",
        "from pprint import pprint\n",
        "# Loading required Libraries\n"
      ],
      "execution_count": 13,
      "outputs": []
    },
    {
      "cell_type": "code",
      "metadata": {
        "colab": {
          "base_uri": "https://localhost:8080/"
        },
        "id": "OYaW8iXmUWdW",
        "outputId": "11497b3f-7aa0-411b-9ef3-f9632a463280"
      },
      "source": [
        "wikipedia.search('Machine learning')\n",
        "# Searching pages on wikipedia with title - machine learning"
      ],
      "execution_count": 27,
      "outputs": [
        {
          "output_type": "execute_result",
          "data": {
            "text/plain": [
              "['Machine learning',\n",
              " 'Transformer (machine learning model)',\n",
              " 'Boosting (machine learning)',\n",
              " 'Support-vector machine',\n",
              " 'Deep learning',\n",
              " 'Active learning (machine learning)',\n",
              " 'List of datasets for machine-learning research',\n",
              " 'Hyperparameter (machine learning)',\n",
              " 'Quantum machine learning',\n",
              " 'Online machine learning']"
            ]
          },
          "metadata": {},
          "execution_count": 27
        }
      ]
    },
    {
      "cell_type": "code",
      "metadata": {
        "colab": {
          "base_uri": "https://localhost:8080/"
        },
        "id": "gKHFjSOjWj5k",
        "outputId": "fddb082e-5995-44c4-aa22-7f2f2516d1b5"
      },
      "source": [
        "wikipedia.page(wikipedia.search('Machine learning')[1])\n",
        " "
      ],
      "execution_count": 34,
      "outputs": [
        {
          "output_type": "execute_result",
          "data": {
            "text/plain": [
              "<WikipediaPage 'Transformer (machine learning model)'>"
            ]
          },
          "metadata": {},
          "execution_count": 34
        }
      ]
    },
    {
      "cell_type": "code",
      "metadata": {
        "id": "Qd1BbZOAYlO1"
      },
      "source": [
        "ml = wikipedia.page(wikipedia.search('Machine learning')[1])\n"
      ],
      "execution_count": 29,
      "outputs": []
    },
    {
      "cell_type": "code",
      "metadata": {
        "colab": {
          "base_uri": "https://localhost:8080/"
        },
        "id": "Ri-KIf2KXdsp",
        "outputId": "a8f1fc39-2387-4a61-c40a-a926a00928ed"
      },
      "source": [
        "dir(ml)\n",
        "\n",
        "# Checking the directory"
      ],
      "execution_count": 30,
      "outputs": [
        {
          "output_type": "execute_result",
          "data": {
            "text/plain": [
              "['_WikipediaPage__continued_query',\n",
              " '_WikipediaPage__load',\n",
              " '_WikipediaPage__title_query_param',\n",
              " '__class__',\n",
              " '__delattr__',\n",
              " '__dict__',\n",
              " '__dir__',\n",
              " '__doc__',\n",
              " '__eq__',\n",
              " '__format__',\n",
              " '__ge__',\n",
              " '__getattribute__',\n",
              " '__gt__',\n",
              " '__hash__',\n",
              " '__init__',\n",
              " '__init_subclass__',\n",
              " '__le__',\n",
              " '__lt__',\n",
              " '__module__',\n",
              " '__ne__',\n",
              " '__new__',\n",
              " '__reduce__',\n",
              " '__reduce_ex__',\n",
              " '__repr__',\n",
              " '__setattr__',\n",
              " '__sizeof__',\n",
              " '__str__',\n",
              " '__subclasshook__',\n",
              " '__weakref__',\n",
              " 'categories',\n",
              " 'content',\n",
              " 'coordinates',\n",
              " 'html',\n",
              " 'images',\n",
              " 'links',\n",
              " 'original_title',\n",
              " 'pageid',\n",
              " 'parent_id',\n",
              " 'references',\n",
              " 'revision_id',\n",
              " 'section',\n",
              " 'sections',\n",
              " 'summary',\n",
              " 'title',\n",
              " 'url']"
            ]
          },
          "metadata": {},
          "execution_count": 30
        }
      ]
    },
    {
      "cell_type": "code",
      "metadata": {
        "colab": {
          "base_uri": "https://localhost:8080/",
          "height": 37
        },
        "id": "xtNYaO_BY2GF",
        "outputId": "94dc89d6-ef7f-4712-ef82-d0a9d74582e8"
      },
      "source": [
        "ml.title\n",
        "# Loading Title"
      ],
      "execution_count": 31,
      "outputs": [
        {
          "output_type": "execute_result",
          "data": {
            "application/vnd.google.colaboratory.intrinsic+json": {
              "type": "string"
            },
            "text/plain": [
              "'Transformer (machine learning model)'"
            ]
          },
          "metadata": {},
          "execution_count": 31
        }
      ]
    },
    {
      "cell_type": "code",
      "metadata": {
        "colab": {
          "base_uri": "https://localhost:8080/",
          "height": 157
        },
        "id": "mX0z8iRYY5YZ",
        "outputId": "5c766866-f26b-44ae-bf2b-dff889681f37"
      },
      "source": [
        "ml.summary\n",
        "#Loading the summary\n"
      ],
      "execution_count": 32,
      "outputs": [
        {
          "output_type": "execute_result",
          "data": {
            "application/vnd.google.colaboratory.intrinsic+json": {
              "type": "string"
            },
            "text/plain": [
              "'A transformer is a deep learning model that adopts the mechanism of self-attention, differentially weighting the significance of each part of the input data. It is used primarily in the field of natural language processing (NLP) and in computer vision (CV).Like recurrent neural networks (RNNs), transformers are designed to handle sequential input data, such as natural language, for tasks such as translation and text summarization. However, unlike RNNs, transformers do not necessarily process the data in order. Rather, the attention mechanism provides context for any position in the input sequence. For example, if the input data is a natural language sentence, the transformer does not need to process the beginning of the sentence before the end. Rather, it identifies the context that confers meaning to each word in the sentence. This feature allows for more parallelization than RNNs and therefore reduces training times.Since their debut in 2017, transformers are increasingly the model of choice for NLP problems, replacing RNN models such as long short-term memory (LSTM). The additional training parallelization allows training on larger datasets than was once possible. This led to the development of pretrained systems such as BERT (Bidirectional Encoder Representations from Transformers) and GPT (Generative Pre-trained Transformer), which were trained with large language datasets, such as the Wikipedia Corpus and Common Crawl, and can be fine-tuned for specific tasks.\\n\\n'"
            ]
          },
          "metadata": {},
          "execution_count": 32
        }
      ]
    },
    {
      "cell_type": "code",
      "metadata": {
        "colab": {
          "base_uri": "https://localhost:8080/",
          "height": 157
        },
        "id": "D5-TEOvCZne9",
        "outputId": "f2d7f10e-ed28-485a-ee58-2e394c1d5384"
      },
      "source": [
        "ml.content\n",
        "# Loading all the content on the page"
      ],
      "execution_count": 35,
      "outputs": [
        {
          "output_type": "execute_result",
          "data": {
            "application/vnd.google.colaboratory.intrinsic+json": {
              "type": "string"
            },
            "text/plain": [
              "'A transformer is a deep learning model that adopts the mechanism of self-attention, differentially weighting the significance of each part of the input data. It is used primarily in the field of natural language processing (NLP) and in computer vision (CV).Like recurrent neural networks (RNNs), transformers are designed to handle sequential input data, such as natural language, for tasks such as translation and text summarization. However, unlike RNNs, transformers do not necessarily process the data in order. Rather, the attention mechanism provides context for any position in the input sequence. For example, if the input data is a natural language sentence, the transformer does not need to process the beginning of the sentence before the end. Rather, it identifies the context that confers meaning to each word in the sentence. This feature allows for more parallelization than RNNs and therefore reduces training times.Since their debut in 2017, transformers are increasingly the model of choice for NLP problems, replacing RNN models such as long short-term memory (LSTM). The additional training parallelization allows training on larger datasets than was once possible. This led to the development of pretrained systems such as BERT (Bidirectional Encoder Representations from Transformers) and GPT (Generative Pre-trained Transformer), which were trained with large language datasets, such as the Wikipedia Corpus and Common Crawl, and can be fine-tuned for specific tasks.\\n\\n\\n== Background ==\\nBefore transformers, most state-of-the-art NLP systems relied on gated RNNs, such as LSTM and gated recurrent units (GRUs), with added attention mechanisms. Transformers are built on these attention technologies without using an RNN structure, highlighting the fact that attention mechanisms alone can match the performance of RNNs with attention.\\n\\n\\n=== Sequential processing ===\\nGated RNNs process tokens sequentially, maintaining a state vector that contains a representation of the data seen after every token. To process the \\n  \\n    \\n      \\n        n\\n      \\n    \\n    {\\\\textstyle n}\\n  th token, the model combines the state representing the sentence up to token \\n  \\n    \\n      \\n        n\\n        −\\n        1\\n      \\n    \\n    {\\\\textstyle n-1}\\n   with the information of the new token to create a new state, representing the sentence up to token \\n  \\n    \\n      \\n        n\\n      \\n    \\n    {\\\\textstyle n}\\n  . Theoretically, the information from one token can propagate arbitrarily far down the sequence, if at every point the state continues to encode contextual information about the token. In practice this mechanism is flawed: the vanishing gradient problem leaves the model\\'s state at the end of a long sentence without precise, extractable information about preceding tokens.\\n\\n\\n=== Attention ===\\nThis problem was addressed by attention mechanisms. Attention mechanisms let a model draw from the state at any preceding point along the sequence. The attention layer can access all previous states and weights them according to a learned measure of relevancy, providing relevant information about far-away tokens. \\nA clear example of the value of attention is in language translation, where context is essential to assigning the meaning of a word in a sentence. In an English-to-French translation system, the first word of the French output most probably depends heavily on the first few words of the English input. However, in a classic LSTM model, in order to produce the first word of the French output, the model is given only the state vector of the last English word. Theoretically, this vector can encode information about the whole English sentence, giving the model all necessary knowledge. In practice this information is often poorly preserved by the LSTM. An attention mechanism can be added to address this problem: the decoder is given access to the state vectors of every English input word, not just the last, and can learn attention weights that dictate how much to attend to each English input state vector. \\nWhen added to RNNs, attention mechanisms increase performance. The development of the Transformer architecture revealed that attention mechanisms were powerful in themselves, and that sequential recurrent processing of data was not necessary to achieve the performance gains of RNNs with attention. Transformers use an attention mechanism without an RNN, processing all tokens at the same time and calculating attention weights between them in successive layers.\\n\\n\\n== Architecture ==\\n\\n\\n=== Encoder-decoder architecture ===\\nLike earlier seq2seq models, the original Transformer model used an encoder-decoder architecture. The encoder consists of encoding layers that process the input iteratively one layer after another, while the decoder consists of decoding layers that do the same thing to the encoder\\'s output.\\nThe function of each encoder layer is to generate encodings that contain information about which parts of the inputs are relevant to each other. It passes its encodings to the next encoder layer as inputs. Each decoder layer does the opposite, taking all the encodings and using their incorporated contextual information to generate an output sequence. To achieve this, each encoder and decoder layer makes use of an attention mechanism. \\nFor each input, attention weighs the relevance of every other input and draws from them to produce the output. Each decoder layer has an additional attention mechanism that draws information from the outputs of previous decoders, before the decoder layer draws information from the encodings. \\nBoth the encoder and decoder layers have a feed-forward neural network for additional processing of the outputs, and contain residual connections and layer normalization steps.\\n\\n\\n=== Scaled dot-product attention ===\\nThe transformer building blocks are scaled dot-product attention units. When a sentence is passed into a transformer model, attention weights are calculated between every token simultaneously. The attention unit produces embeddings for every token in context that contain information about the token itself along with a weighted combination of other relevant tokens each weighted by its attention weight.\\nFor each attention unit the transformer model learns three weight matrices; the query weights \\n  \\n    \\n      \\n        \\n          W\\n          \\n            Q\\n          \\n        \\n      \\n    \\n    {\\\\displaystyle W_{Q}}\\n  , the key weights \\n  \\n    \\n      \\n        \\n          W\\n          \\n            K\\n          \\n        \\n      \\n    \\n    {\\\\displaystyle W_{K}}\\n  , and the value weights \\n  \\n    \\n      \\n        \\n          W\\n          \\n            V\\n          \\n        \\n      \\n    \\n    {\\\\displaystyle W_{V}}\\n  . For each token \\n  \\n    \\n      \\n        i\\n      \\n    \\n    {\\\\displaystyle i}\\n  , the input word embedding \\n  \\n    \\n      \\n        \\n          x\\n          \\n            i\\n          \\n        \\n      \\n    \\n    {\\\\displaystyle x_{i}}\\n   is multiplied with each of the three weight matrices to produce a query vector \\n  \\n    \\n      \\n        \\n          q\\n          \\n            i\\n          \\n        \\n        =\\n        \\n          x\\n          \\n            i\\n          \\n        \\n        \\n          W\\n          \\n            Q\\n          \\n        \\n      \\n    \\n    {\\\\displaystyle q_{i}=x_{i}W_{Q}}\\n  , a key vector \\n  \\n    \\n      \\n        \\n          k\\n          \\n            i\\n          \\n        \\n        =\\n        \\n          x\\n          \\n            i\\n          \\n        \\n        \\n          W\\n          \\n            K\\n          \\n        \\n      \\n    \\n    {\\\\displaystyle k_{i}=x_{i}W_{K}}\\n  , and a value vector \\n  \\n    \\n      \\n        \\n          v\\n          \\n            i\\n          \\n        \\n        =\\n        \\n          x\\n          \\n            i\\n          \\n        \\n        \\n          W\\n          \\n            V\\n          \\n        \\n      \\n    \\n    {\\\\displaystyle v_{i}=x_{i}W_{V}}\\n  . Attention weights are calculated using the query and key vectors: the attention weight \\n  \\n    \\n      \\n        \\n          a\\n          \\n            i\\n            j\\n          \\n        \\n      \\n    \\n    {\\\\displaystyle a_{ij}}\\n   from token \\n  \\n    \\n      \\n        i\\n      \\n    \\n    {\\\\displaystyle i}\\n   to token \\n  \\n    \\n      \\n        j\\n      \\n    \\n    {\\\\displaystyle j}\\n   is the dot product between \\n  \\n    \\n      \\n        \\n          q\\n          \\n            i\\n          \\n        \\n      \\n    \\n    {\\\\displaystyle q_{i}}\\n   and \\n  \\n    \\n      \\n        \\n          k\\n          \\n            j\\n          \\n        \\n      \\n    \\n    {\\\\displaystyle k_{j}}\\n  . The attention weights are divided by the square root of the dimension of the key vectors, \\n  \\n    \\n      \\n        \\n          \\n            \\n              d\\n              \\n                k\\n              \\n            \\n          \\n        \\n      \\n    \\n    {\\\\displaystyle {\\\\sqrt {d_{k}}}}\\n  , which stabilizes gradients during training, and passed through a softmax which normalizes the weights. The fact that \\n  \\n    \\n      \\n        \\n          W\\n          \\n            Q\\n          \\n        \\n      \\n    \\n    {\\\\displaystyle W_{Q}}\\n   and \\n  \\n    \\n      \\n        \\n          W\\n          \\n            K\\n          \\n        \\n      \\n    \\n    {\\\\displaystyle W_{K}}\\n   are different matrices allows attention to be non-symmetric: if token \\n  \\n    \\n      \\n        i\\n      \\n    \\n    {\\\\displaystyle i}\\n   attends to token \\n  \\n    \\n      \\n        j\\n      \\n    \\n    {\\\\displaystyle j}\\n   (i.e. \\n  \\n    \\n      \\n        \\n          q\\n          \\n            i\\n          \\n        \\n        ⋅\\n        \\n          k\\n          \\n            j\\n          \\n        \\n      \\n    \\n    {\\\\displaystyle q_{i}\\\\cdot k_{j}}\\n   is large), this does not necessarily mean that token \\n  \\n    \\n      \\n        j\\n      \\n    \\n    {\\\\displaystyle j}\\n   will attend to token \\n  \\n    \\n      \\n        i\\n      \\n    \\n    {\\\\displaystyle i}\\n   (i.e. \\n  \\n    \\n      \\n        \\n          q\\n          \\n            j\\n          \\n        \\n        ⋅\\n        \\n          k\\n          \\n            i\\n          \\n        \\n      \\n    \\n    {\\\\displaystyle q_{j}\\\\cdot k_{i}}\\n   could be small).  The output of the attention unit for token \\n  \\n    \\n      \\n        i\\n      \\n    \\n    {\\\\displaystyle i}\\n   is the weighted sum of the value vectors of all tokens, weighted by \\n  \\n    \\n      \\n        \\n          a\\n          \\n            i\\n            j\\n          \\n        \\n      \\n    \\n    {\\\\displaystyle a_{ij}}\\n  , the attention from token \\n  \\n    \\n      \\n        i\\n      \\n    \\n    {\\\\displaystyle i}\\n   to each token.\\nThe attention calculation for all tokens can be expressed as one large matrix calculation using the softmax function, which is useful for training due to computational matrix operation optimizations that quickly compute matrix operations. The matrices \\n  \\n    \\n      \\n        Q\\n      \\n    \\n    {\\\\displaystyle Q}\\n  , \\n  \\n    \\n      \\n        K\\n      \\n    \\n    {\\\\displaystyle K}\\n   and \\n  \\n    \\n      \\n        V\\n      \\n    \\n    {\\\\displaystyle V}\\n   are defined as the matrices where the \\n  \\n    \\n      \\n        i\\n      \\n    \\n    {\\\\displaystyle i}\\n  th rows are vectors \\n  \\n    \\n      \\n        \\n          q\\n          \\n            i\\n          \\n        \\n      \\n    \\n    {\\\\displaystyle q_{i}}\\n  , \\n  \\n    \\n      \\n        \\n          k\\n          \\n            i\\n          \\n        \\n      \\n    \\n    {\\\\displaystyle k_{i}}\\n  , and \\n  \\n    \\n      \\n        \\n          v\\n          \\n            i\\n          \\n        \\n      \\n    \\n    {\\\\displaystyle v_{i}}\\n   respectively.\\n\\n  \\n    \\n      \\n        \\n          \\n            \\n              \\n                \\n                  Attention\\n                \\n                (\\n                Q\\n                ,\\n                K\\n                ,\\n                V\\n                )\\n                =\\n                \\n                  softmax\\n                \\n                \\n                  (\\n                  \\n                    \\n                      \\n                        Q\\n                        \\n                          K\\n                          \\n                            \\n                              T\\n                            \\n                          \\n                        \\n                      \\n                      \\n                        \\n                          d\\n                          \\n                            k\\n                          \\n                        \\n                      \\n                    \\n                  \\n                  )\\n                \\n                V\\n              \\n            \\n          \\n        \\n      \\n    \\n    {\\\\displaystyle {\\\\begin{aligned}{\\\\text{Attention}}(Q,K,V)={\\\\text{softmax}}\\\\left({\\\\frac {QK^{\\\\mathrm {T} }}{\\\\sqrt {d_{k}}}}\\\\right)V\\\\end{aligned}}}\\n  \\n\\n\\n==== Multi-head attention ====\\nOne set of \\n  \\n    \\n      \\n        \\n          (\\n          \\n            \\n              W\\n              \\n                Q\\n              \\n            \\n            ,\\n            \\n              W\\n              \\n                K\\n              \\n            \\n            ,\\n            \\n              W\\n              \\n                V\\n              \\n            \\n          \\n          )\\n        \\n      \\n    \\n    {\\\\displaystyle \\\\left(W_{Q},W_{K},W_{V}\\\\right)}\\n   matrices is called an attention head, and each layer in a transformer model has multiple attention heads. While each attention head attends to the tokens that are relevant to each token, with multiple attention heads the model can do this for different definitions of \"relevance\". In addition the influence field representing relevance can become progressively dilated in successive layers. Many transformer attention heads encode relevance relations that are meaningful to humans. For example, attention heads can attend mostly to the next word, while others  mainly attend from verbs to their direct objects. The computations for each attention head can be performed in parallel, which allows for fast processing. The outputs for the attention layer are concatenated to pass into the feed-forward neural network layers.\\n\\n\\n=== Encoder ===\\nEach encoder consists of two major components: a self-attention mechanism and a feed-forward neural network. The self-attention mechanism accepts input encodings from the previous encoder and weighs their relevance to each other to generate output encodings. The feed-forward neural network further processes each output encoding individually. These output encodings are then passed to the next encoder as its input, as well as to the decoders.\\nThe first encoder takes positional information and embeddings of the input sequence as its input, rather than encodings. The positional information is necessary for the transformer to make use of the order of the sequence, because no other part of the transformer makes use of this.\\n\\n\\n=== Decoder ===\\nEach decoder consists of three major components: a self-attention mechanism, an attention mechanism over the encodings, and a feed-forward neural network. The decoder functions in a similar fashion to the encoder, but an additional attention mechanism is inserted which instead draws relevant information from the encodings generated by the encoders.Like the first encoder, the first decoder takes positional information and embeddings of the output sequence as its input, rather than encodings. The transformer must not use the current or future output to predict an output, so the output sequence must be partially masked to prevent this reverse information flow. The last decoder is followed by a final linear transformation and softmax layer, to produce the output probabilities over the vocabulary.\\n\\n\\n=== Alternatives ===\\nTraining transformer-based architectures can be expensive, especially for long inputs. Alternative architectures include the Reformer (which reduces the computational load from \\n  \\n    \\n      \\n        O\\n        (\\n        \\n          N\\n          \\n            2\\n          \\n        \\n        )\\n      \\n    \\n    {\\\\displaystyle O(N^{2})}\\n   to \\n  \\n    \\n      \\n        O\\n        (\\n        N\\n        ln\\n        \\u2061\\n        N\\n        )\\n      \\n    \\n    {\\\\displaystyle O(N\\\\ln N)}\\n  ), or models like ETC/BigBird (which can reduce it to \\n  \\n    \\n      \\n        O\\n        (\\n        N\\n        )\\n      \\n    \\n    {\\\\displaystyle O(N)}\\n  ) where \\n  \\n    \\n      \\n        N\\n      \\n    \\n    {\\\\displaystyle N}\\n   is the length of the sequence. This is done using locality-sensitive hashing and reversible layers.A benchmark for comparing transformer architectures was introduced in late 2020.\\n\\n\\n== Training ==\\nTransformers typically undergo semi-supervised learning involving unsupervised pretraining followed by supervised fine-tuning. Pretraining is typically done on a larger dataset than fine-tuning, due to the limited availability of labeled training data. Tasks for pretraining and fine-tuning commonly include:\\n\\nlanguage modeling\\nnext-sentence prediction\\nquestion answering\\nreading comprehension\\nsentiment analysis\\nparaphrasing\\n\\n\\n== Applications ==\\nThe transformer has had great success in natural language processing (NLP), for example the tasks of machine translation and time series prediction.  Many pretrained models such as GPT-2, GPT-3, BERT, XLNet, and RoBERTa demonstrate the ability of transformers to perform a wide variety of such NLP-related tasks, and have the potential to find real-world applications. These may include:\\n\\nmachine translation\\ndocument summarization\\ndocument generation\\nnamed entity recognition (NER)\\nbiological sequence analysis\\nvideo understanding.In 2020, it was shown that the transformer architecture, more specifically GPT-2, could be tuned to play chess. Transformers have been applied to image processing with results competitive with convolutional neural networks.\\n\\n\\n== Implementations ==\\nThe transformer model has been implemented in standard deep learning frameworks such as TensorFlow and PyTorch.\\nTransformers is a library produced by Hugging Face that supplies transformer-based architectures and pretrained models.\\n\\n\\n== See also ==\\nPerceiver\\nGPT-3\\nWu Dao\\nVision Transformers\\n\\n\\n== References ==\\n\\n\\n== Further reading ==\\nHubert Ramsauer et al. (2020), \"Hopfield Networks is All You Need\", preprint submitted for ICLR 2021. arXiv:2008.02217; see also authors\\' blog– Discussion of the effect of a transformer layer as equivalent to a Hopfield update, bringing the input closer to one of the fixed points (representable patterns) of a continuous-valued Hopfield network\\n\\n\\n== External links ==\\nAlexander Rush, The Annotated transformer, Harvard NLP group, 3 April 2018'"
            ]
          },
          "metadata": {},
          "execution_count": 35
        }
      ]
    },
    {
      "cell_type": "code",
      "metadata": {
        "colab": {
          "base_uri": "https://localhost:8080/"
        },
        "id": "J5Ajzd53anJj",
        "outputId": "f4e4dc8a-03c7-45d0-cb39-8f276dba47a6"
      },
      "source": [
        "ml.images\n",
        "#Loading all the images"
      ],
      "execution_count": 36,
      "outputs": [
        {
          "output_type": "execute_result",
          "data": {
            "text/plain": [
              "['https://upload.wikimedia.org/wikipedia/commons/b/b5/DNC_training_recall_task.gif',\n",
              " 'https://upload.wikimedia.org/wikipedia/commons/f/fe/Kernel_Machine.svg',\n",
              " 'https://upload.wikimedia.org/wikipedia/en/9/96/Symbol_category_class.svg',\n",
              " 'https://upload.wikimedia.org/wikipedia/en/e/e2/Symbol_portal_class.svg']"
            ]
          },
          "metadata": {},
          "execution_count": 36
        }
      ]
    }
  ]
}